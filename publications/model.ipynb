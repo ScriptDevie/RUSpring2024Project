{
 "cells": [
  {
   "cell_type": "code",
   "execution_count": 18,
   "id": "031ea262",
   "metadata": {},
   "outputs": [],
   "source": [
    "import numpy as np\n",
    "from scipy.integrate import solve_ivp\n",
    "from scipy.integrate import dblquad\n",
    "import matplotlib.pyplot as plt\n",
    "\n",
    "# Initial conditions\n",
    "C_0 = 100\n",
    "W_x_0 = W_y_0 = 1  # Replace\n",
    "T_x_0 = T_y_0 = 0\n",
    "X_0 = Y_0 = 0\n",
    "F_x_0 = F_y_0 = 1  # Replace\n",
    "P_0 = 1  # Replace\n",
    "\n",
    "y0 = [C_0, W_x_0, W_y_0, T_x_0, T_y_0, X_0, Y_0, F_x_0, F_y_0, P_0]\n",
    "\n",
    "# Heat equation solution\n",
    "def integrand(x_prime, y_prime, x, y):\n",
    "    W_x = 1 # Replace\n",
    "    W_y = 2 # Replace\n",
    "    X = 1 # Replace\n",
    "    Y = 2 # Replace\n",
    "    \n",
    "    distance_squared = (x - x_prime)**2 + (y - y_prime)**2\n",
    "    exp_term = np.exp(-W_x**2 * (x_prime - X)**2) * np.exp(-W_y**2 * (y_prime - Y)**2)\n",
    "    return np.log(np.sqrt(distance_squared)) / exp_term\n",
    "\n",
    "# Governing system of differential equations\n",
    "def system_of_equations(y, n, xi, gamma):\n",
    "    C, W_x, W_y, T_x, T_y, X, Y, F_x, F_y, P = y\n",
    "    \n",
    "    delta_n_turb_T_x = 1 \n",
    "    delta_n_turb_T_y = 1  \n",
    "    delta_n_turb_F_x = 1  \n",
    "    delta_n_turb_F_y = 1 \n",
    "    delta_n_turb_P = 1    \n",
    "    \n",
    "    M_T_x = 4 * W_x**2 * (x - X) * (abs(a)**2 / C**2)\n",
    "    M_T_y = 4 * W_y**2 * (y - Y) * (abs(a)**2 / C**2)\n",
    "    M_F_x = W_x**2 * (1 - 2 * W_x**2 * (x - X)) * (abs(a)**2 / C**2)\n",
    "    M_F_y = W_y**2 * (1 - 2 * W_x**2 * (y - Y)) * (abs(a)**2 / C**2)\n",
    "    M_P = (2 - W_x**2 * (x - X)**2 - W_y**2 * (y - Y)**2) * (abs(a)**2 / C**2)\n",
    "    \n",
    "    # Differential equations\n",
    "    Cz = C_0\n",
    "    dW_xdz = (2 / (n * xi)) * F_x * W_x\n",
    "    dW_ydz = (2 / (n * xi)) * F_y * W_y\n",
    "    dT_xdz = -n * gamma**2 \n",
    "    dT_ydz = -n * gamma**2 \n",
    "    dXdz = -2 * T_x\n",
    "    dYdz = -2 * T_y\n",
    "    dF_xdz = (-W_x**4 / (2 * n * xi)) + (2 * F_x**2 / (n * xi)) + (gamma**2 / xi)\n",
    "    dF_ydz = (-W_y**4 / (2 * n * xi)) + (2 * F_y**2 / (n * xi)) + (gamma**2 / xi) \n",
    "    dPdz = ((W_x**2 + W_y**2) / (2 * n * xi)) \n",
    "    \n",
    "    return [Cz, dW_xdz, dW_ydz, dT_xdz, dT_ydz, dXdz, dYdz, dF_xdz, dF_ydz, dPdz]\n"
   ]
  },
  {
   "cell_type": "code",
   "execution_count": null,
   "id": "6161e79c",
   "metadata": {},
   "outputs": [],
   "source": []
  }
 ],
 "metadata": {
  "kernelspec": {
   "display_name": "Python 3",
   "language": "python",
   "name": "python3"
  },
  "language_info": {
   "codemirror_mode": {
    "name": "ipython",
    "version": 3
   },
   "file_extension": ".py",
   "mimetype": "text/x-python",
   "name": "python",
   "nbconvert_exporter": "python",
   "pygments_lexer": "ipython3",
   "version": "3.8.8"
  }
 },
 "nbformat": 4,
 "nbformat_minor": 5
}
